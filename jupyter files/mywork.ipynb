{
 "cells": [
  {
   "cell_type": "markdown",
   "metadata": {},
   "source": [
    "# My work"
   ]
  },
  {
   "cell_type": "code",
   "execution_count": 1,
   "metadata": {},
   "outputs": [
    {
     "name": "stdout",
     "output_type": "stream",
     "text": [
      "Hii.. nisha I am ready to handle your work\n"
     ]
    }
   ],
   "source": [
    "print(\"Hii.. nisha I am ready to handle your work\")"
   ]
  },
  {
   "cell_type": "code",
   "execution_count": null,
   "metadata": {},
   "outputs": [],
   "source": [
    "work=input(\"Enter your pending work: \")\n",
    "w1=[]\n",
    "def my_work(mwork):\n",
    "    w1.append(work)\n",
    "    print(\"Your all pending works are:\")\n",
    "    if len(w1)!=0:\n",
    "        for i in range(len(w1)):\n",
    "            print(f\"{i}-->{w1[i]}\")\n",
    "            i+=1\n",
    "    else:\n",
    "        print(\"Enjoy! you don't have any pending work \")\n",
    "my_work(work)\n",
    "def complete_work:\n",
    "    finish=input(\"What work you have finished:\")"
   ]
  },
  {
   "cell_type": "code",
   "execution_count": null,
   "metadata": {},
   "outputs": [],
   "source": [
    "print(\"\")"
   ]
  }
 ],
 "metadata": {
  "kernelspec": {
   "display_name": "Python 3",
   "language": "python",
   "name": "python3"
  },
  "language_info": {
   "codemirror_mode": {
    "name": "ipython",
    "version": 3
   },
   "file_extension": ".py",
   "mimetype": "text/x-python",
   "name": "python",
   "nbconvert_exporter": "python",
   "pygments_lexer": "ipython3",
   "version": "3.6.5"
  }
 },
 "nbformat": 4,
 "nbformat_minor": 2
}
