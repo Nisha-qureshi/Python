{
 "cells": [
  {
   "cell_type": "markdown",
   "metadata": {},
   "source": [
    "# LaTex"
   ]
  },
  {
   "cell_type": "markdown",
   "metadata": {},
   "source": [
    "$x_n$   \n",
    "\n",
    "$$\\sigma$$\n",
    "\n",
    "$$\\infty$$\n",
    "\n",
    "$$\\frac{a}{b}$$\n",
    "\n",
    "$$\\alpha$$\n",
    "\n",
    "$$\\beta$$\n",
    "\n",
    "$$\\gamma$$\n",
    "\n",
    "$$\\Gamma$$\n",
    "\n",
    "$$\\Delta$$\n",
    "\n",
    "$$\\sin$$\n",
    "\n",
    "$$\\cos$$\n",
    "\n",
    "$$\\tan$$\n",
    "\n",
    "$$\\bar{x}$$\n",
    "\n",
    "$$x^2$$\n",
    "\n",
    "$$\\sum$$\n",
    "\n",
    "$$\\sum_{n=0}^{\\infty}$$\n",
    "\n",
    "$$\\int a^b $$\n",
    "\n",
    "$$\\int_a^b$$\n",
    "\n",
    "$$\\lim{x \\to a}$$\n",
    "\n",
    "$$\\lim {x \\to a}$$\n",
    "\n",
    "$$\\lim_{x \\to a}$$\n",
    "\n",
    "$$\\prod_{n=0}^{\\infty}$$\n",
    "\n",
    "$$\\begin{matrix} a & b \\\\ c & d \\end{matrix}$$\n",
    "\n",
    "$$\\begin{pmatrix} a & b \\\\ c & d \\end{pmatrix}$$\n",
    "\n",
    "$$\\begin{bmatrix} 1&2&3 \\\\ 3&4&5 \\\\ 7&8&9 \\end{bmatrix}$$\n",
    "\n",
    "$$\\left( \\frac{p}{q}\\right)$$\n",
    "\n",
    "$$\\partial$$\n",
    "\n",
    "$$\\exp{x}$$\n",
    "\n",
    "$$\\log{x^3}$$\n",
    "\n",
    "$$\\log10{x^4}$$"
   ]
  },
  {
   "cell_type": "markdown",
   "metadata": {},
   "source": []
  },
  {
   "cell_type": "markdown",
   "metadata": {},
   "source": [
    "\n",
    "$$ \\bar(x) $$\n",
    "$$ \\frac{\\lim_{i=0}^n{\\sum{x-\\bar(x_i)}^2}} N $$\n",
    "$$ \\sqrt{\\sigma} $$\n",
    "$$ \\$$"
   ]
  },
  {
   "cell_type": "code",
   "execution_count": null,
   "metadata": {},
   "outputs": [],
   "source": []
  }
 ],
 "metadata": {
  "kernelspec": {
   "display_name": "Python 3",
   "language": "python",
   "name": "python3"
  },
  "language_info": {
   "codemirror_mode": {
    "name": "ipython",
    "version": 3
   },
   "file_extension": ".py",
   "mimetype": "text/x-python",
   "name": "python",
   "nbconvert_exporter": "python",
   "pygments_lexer": "ipython3",
   "version": "3.6.5"
  }
 },
 "nbformat": 4,
 "nbformat_minor": 2
}
